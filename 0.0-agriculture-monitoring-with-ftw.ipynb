{
 "cells": [
  {
   "cell_type": "code",
   "execution_count": null,
   "metadata": {
    "id": "dzeHYa5GCxN7"
   },
   "outputs": [],
   "source": [
    "# MIT License\n",
    "#\n",
    "# @title Copyright (c) 2021 CCAI Community Authors { display-mode: \"form\" }\n",
    "#\n",
    "# Permission is hereby granted, free of charge, to any person obtaining a\n",
    "# copy of this software and associated documentation files (the \"Software\"),\n",
    "# to deal in the Software without restriction, including without limitation\n",
    "# the rights to use, copy, modify, merge, publish, distribute, sublicense,\n",
    "# and/or sell copies of the Software, and to permit persons to whom the\n",
    "# Software is furnished to do so, subject to the following conditions:\n",
    "#\n",
    "# The above copyright notice and this permission notice shall be included in\n",
    "# all copies or substantial portions of the Software.\n",
    "#\n",
    "# THE SOFTWARE IS PROVIDED \"AS IS\", WITHOUT WARRANTY OF ANY KIND, EXPRESS OR\n",
    "# IMPLIED, INCLUDING BUT NOT LIMITED TO THE WARRANTIES OF MERCHANTABILITY,\n",
    "# FITNESS FOR A PARTICULAR PURPOSE AND NONINFRINGEMENT. IN NO EVENT SHALL\n",
    "# THE AUTHORS OR COPYRIGHT HOLDERS BE LIABLE FOR ANY CLAIM, DAMAGES OR OTHER\n",
    "# LIABILITY, WHETHER IN AN ACTION OF CONTRACT, TORT OR OTHERWISE, ARISING\n",
    "# FROM, OUT OF OR IN CONNECTION WITH THE SOFTWARE OR THE USE OR OTHER\n",
    "# DEALINGS IN THE SOFTWARE."
   ]
  },
  {
   "cell_type": "markdown",
   "metadata": {
    "id": "13i7KQ9t-CV8"
   },
   "source": [
    "# Agricultural Monitoring with Fields of The World (FTW)\n",
    "Authors:\n",
    "*   Hannah Kerner, Arizona State University, hkerner@asu.edu\n",
    "*   Isaac Corley, Affiliation, email\n",
    "*   Caleb Robinson, Microsoft AI for Good, Caleb.Robinson@microsoft.com\n",
    "*   TODO add other names if we pull from existing tutorials/code\n",
    "\n",
    "TODO: brief introduction (1-2 sentences) describing a brief summary of the tutorial as well as users' expected learning outcomes.\n",
    "\n",
    "DRAFT: This tutorial walks you through extracting agricultural field boundaries from Sentinel-2 imagery with the Fields of the World (FTW) model, post-processing the resulting output into polygons, extracting feature representations for each field, and using these in downstream tasks: TODO."
   ]
  },
  {
   "cell_type": "markdown",
   "metadata": {
    "id": "13i7KQ9t-CV8"
   },
   "source": [
    "[![Open In Colab](https://colab.research.google.com/assets/colab-badge.svg)](https://colab.research.google.com/github/fieldsoftheworld/neurips2025-ccai-tutorial/blob/main/0.0-agriculture-monitoring-with-ftw.ipynb)"
   ]
  },
  {
   "cell_type": "markdown",
   "metadata": {
    "id": "yNv0ANr5WcD_"
   },
   "source": [
    "# Table of Contents\n",
    "\n",
    "\n",
    "*   [Overview](#overview)\n",
    "*   [Climate Impact](#climate-impact)\n",
    "*   [Target Audience](#target-audience)\n",
    "*   [Background & Prerequisites](#background-and-prereqs)\n",
    "*   [Software Requirements](#software-requirements)\n",
    "*   [Data Description](#data-description)\n",
    "*   [Methodology](#methodology)\n",
    "*   [Results & Discussion](#results-and-discussion)\n",
    "*   [References](#references)\n"
   ]
  },
  {
   "cell_type": "markdown",
   "metadata": {
    "id": "QH81wjfsJsv1"
   },
   "source": [
    "<a name=\"overview\"></a>\n",
    "# Overview\n",
    "\n",
    "In this section, kindly provide a summary of the main contributions of the tutorial notebook. Note that the tutorial should introduce or demonstrate the use of a method, dataset, tool, or technology to address a problem related to climate change. Be clear on the goal of the tutorial and the expected learning outcomes for the users. We encourage authors to relate notebook tasks back to the stated expected learning outcomes.\n",
    "\n",
    "Example contributions include:\n",
    "*   Leveraging existing libraries, packages, or frameworks to tackle a real-world climate-related challenge using machine learning.\n",
    "*   Introducing a new climate-related benchmark dataset, applying machine learning methods, and presenting baseline results.\n",
    "*   Developing new tools or libraries and demonstrating its application to a specific problem in climate change.\n"
   ]
  },
  {
   "cell_type": "markdown",
   "metadata": {
    "id": "99jkSa_KmrDH"
   },
   "source": [
    "<a name=\"climate-impact\"></a>\n",
    "# Climate Impact\n",
    "In this section, describe in more detail how the methods or tools introduced in this tutorial could have pathways to positive impact regarding climate change. The problem should be clearly explained and motivated for non-experts. Feel free to discuss relevant research works, real-world examples of successful applications, and/or climate startups or organizations that are making an impact using similar methods or tools to address climate-related challenges.\n",
    "\n",
    "We also ask that authors emphasize the real-world impact of the methods, specifically: Who will be using the models? How will the models be used? What decisions will be made based on the outputs of these models? How will they impact existing systems/the environment/communities on the ground?\n"
   ]
  },
  {
   "cell_type": "markdown",
   "metadata": {
    "id": "o5sbM_JPpdMR"
   },
   "source": [
    "<a name=\"target-audience\"></a>\n",
    "# Target Audience\n",
    "\n",
    "Kindly specify the intended target audience for this tutorial notebook. Please be as specific as possible, and feel free to elaborate on their expected background.\n",
    "\n",
    "Examples:\n",
    "\n",
    "*   Climate scientists seeking to explore ML tools, technologies, and resources to tackle a domain-specific problem in climate change.\n",
    "*   Data scientists with prior background in deep learning looking for concrete examples on how to tackle climate change using AI.\n",
    "\n"
   ]
  },
  {
   "cell_type": "markdown",
   "metadata": {
    "id": "gQgijl46pYzn"
   },
   "source": [
    "<a name=\"background-and-prereqs\"></a>\n",
    "# Background & Prerequisites\n",
    "\n",
    "You will need to specify the prerequisites and basic knowledge required for the tutorial. Afterwards, please provide a brief explanation of the most important concepts necessary for the users to follow the tutorial."
   ]
  },
  {
   "cell_type": "markdown",
   "metadata": {
    "id": "7BpQklEEIFDD"
   },
   "source": [
    "## Other References\n",
    "Feel free to include additional resources (e.g. research papers, blog posts, textbooks) for the readers to further study."
   ]
  },
  {
   "cell_type": "markdown",
   "metadata": {
    "id": "rSRCNgYzUwaf"
   },
   "source": [
    "<a name=\"software-requirements\"></a>\n",
    "# Software Requirements\n",
    "Include in this section the software requirements, setup instructions, and library imports.\n",
    "\n",
    "Example:\n",
    "\n",
    "This notebook requires Python >= 3.7. The following libraries are required:\n",
    "\n",
    "*   pandas==2.2.3\n",
    "*   numpy==2.2.5\n",
    "*   matplotlib\n",
    "\n",
    "All tutorial submissions must have a separate `requirements.txt` file stating all dependencies and versions for software, packages, or tooling used in the tutorial. This file allows tutorial users who would like to run a copy of the notebook locally with all dependencies needed to create their own virtual environment/IPython kernel.\n",
    "\n",
    "In bash you may create a `requirements.txt` by typing the following command:\n",
    "\n",
    "`pip freeze > requirements.txt'\n",
    "\n",
    "Avoid undocumented dependencies.\n",
    "\n",
    "We encourage explicitly printing out your dependencies using a notebook extension such as [watermark](https://github.com/rasbt/watermark) at the bottom of your notebook.\n",
    "\n",
    "Within the notebook, there must be a cell which includes the necessary directory structure to retrieve files or data using relative paths for ease of use. If data is private, please provide a similar public sample for those that would like to reproduce or extend your work. Instructions and imports with versioning must be provided and clearly labeled at the top.\n",
    "\n",
    "Document the beginning and end date of your analysis to contextualize the development stage of the notebook in the event that highlighted packages or content is updated in the future.\n"
   ]
  },
  {
   "cell_type": "code",
   "execution_count": null,
   "metadata": {},
   "outputs": [],
   "source": [
    "import utils\n",
    "import os\n",
    "import rasterio\n",
    "import rasterio.mask\n",
    "\n",
    "import leafmap\n",
    "import geopandas as gpd\n",
    "import subprocess\n",
    "from tqdm import tqdm\n",
    "import urllib.request\n",
    "from mgrs import MGRS\n",
    "from shapely.geometry import Point\n",
    "\n",
    "from typing import List, Tuple\n",
    "\n",
    "# Install ftw cli\n",
    "!pip install -q ftw-tools"
   ]
  },
  {
   "cell_type": "markdown",
   "metadata": {
    "id": "jXoiLncsU3pe"
   },
   "source": [
    "<a name=\"data-description\"></a>\n",
    "# Data Description\n",
    "\n",
    "In this section, kindly provide a brief description of the dataset that you will use in this tutorial. Specify information such as the data type or file format (e.g. text, image, video, tabular), size, spatial resolution, temporal resolution, labels or categories, etc. If you are introducing a new dataset, feel free to include additional information (e.g. field survey sampling methods, dataset annotation efforts, etc.) or provide external links and resources that discuss the specific details of the dataset."
   ]
  },
  {
   "cell_type": "markdown",
   "metadata": {
    "id": "PoF-BxSM5Jkc"
   },
   "source": [
    "## Data Download\n",
    "Provide instructions on how to retrieve the necessary data.\n",
    "\n",
    "This may include bash scripts, Python scripts, or other means of downloading the data."
   ]
  },
  {
   "cell_type": "markdown",
   "metadata": {
    "id": "Qh5FKi6Nopbr"
   },
   "source": [
    "### Specify your region of interest (ROI) and time of interest (TOI)\n",
    "You will choose a Sentinel-2 tile grid and year"
   ]
  },
  {
   "cell_type": "code",
   "execution_count": 2,
   "metadata": {
    "id": "bSt6h_Q-oqjK"
   },
   "outputs": [],
   "source": [
    "# Specify an MGRS tile ID (ROI) and year + season (TOI)\n",
    "tile_id = \"14TPN\"\n",
    "year = 2023\n",
    "season = \"summer\"  # or \"winter\""
   ]
  },
  {
   "cell_type": "code",
   "execution_count": 3,
   "metadata": {},
   "outputs": [],
   "source": [
    "lat, lon = MGRS().toLatLon(tile_id + \"5000050000\")  # This gets the center of the MGRS tile\n",
    "tile_center = Point(lon, lat)"
   ]
  },
  {
   "cell_type": "markdown",
   "metadata": {},
   "source": [
    "### Get the start and end of season dates from crop calendar"
   ]
  },
  {
   "cell_type": "code",
   "execution_count": 16,
   "metadata": {},
   "outputs": [
    {
     "name": "stdout",
     "output_type": "stream",
     "text": [
      "Season start date: 2023-04-01\n",
      "Season end date: 2023-11-15\n"
     ]
    }
   ],
   "source": [
    "start_tif = utils.crop_calendar_files[season][\"start\"]\n",
    "end_tif = utils.crop_calendar_files[season][\"end\"]\n",
    "\n",
    "start_date, end_date = utils.get_dates_from_tifs(\n",
    "    point=tile_center,\n",
    "    start_season_tif_path=start_tif,\n",
    "    end_season_tif_path=end_tif,\n",
    "    year=year,\n",
    "    season_type=season,\n",
    ")\n",
    "\n",
    "print(f\"Season start date: {start_date}\")\n",
    "print(f\"Season end date: {end_date}\")"
   ]
  },
  {
   "cell_type": "markdown",
   "metadata": {},
   "source": [
    "### Download Sentinel-2 images for window A and window B (using crop calendar-based auto selection)\n",
    "Window A ~~ start of season, Window B ~~ end of season"
   ]
  },
  {
   "cell_type": "code",
   "execution_count": 17,
   "metadata": {},
   "outputs": [
    {
     "name": "stdout",
     "output_type": "stream",
     "text": [
      "Window A start date: 2023-03-17\n",
      "Window A end date: 2023-04-16\n",
      "Window B start date: 2023-10-16\n",
      "Window B end date: 2023-11-15\n"
     ]
    }
   ],
   "source": [
    "win_a_start, win_a_end, win_b_start, win_b_end = utils.calculate_window_dates(\n",
    "    start_date, end_date\n",
    ")\n",
    "\n",
    "print(f\"Window A start date: {win_a_start}\")\n",
    "print(f\"Window A end date: {win_a_end}\")\n",
    "print(f\"Window B start date: {win_b_start}\")\n",
    "print(f\"Window B end date: {win_b_end}\")"
   ]
  },
  {
   "cell_type": "code",
   "execution_count": 18,
   "metadata": {},
   "outputs": [
    {
     "name": "stdout",
     "output_type": "stream",
     "text": [
      "Searching for images between 2023-03-17 and 2023-04-16 with cloud cover < 20%\n",
      "Found image from 2023-04-07 with 0.041606% cloud coverage\n",
      "Searching for images between 2023-10-16 and 2023-11-15 with cloud cover < 20%\n",
      "Found image from 2023-10-19 with 0.003178% cloud coverage\n"
     ]
    }
   ],
   "source": [
    "win_a_id, win_b_id = utils.get_best_image_ids(\n",
    "    win_a_start, win_a_end, win_b_start, win_b_end, s2_tile_id=tile_id\n",
    ")"
   ]
  },
  {
   "cell_type": "code",
   "execution_count": 19,
   "metadata": {
    "scrolled": true
   },
   "outputs": [
    {
     "name": "stdout",
     "output_type": "stream",
     "text": [
      "Loading data\n",
      "100%|███████████████████████████████████████████| 16/16 [00:28<00:00,  1.75s/it]\n",
      "Merging data\n",
      "Processing version 5.1 unknown or untested (< 3.0 or >= 6.0). Inference quality might decrease.\n",
      "Rescaling data to processing version 3.0 from processing version 5.1.\n",
      "Writing output\n",
      "Finished merging and writing output in 32.45 seconds\n"
     ]
    }
   ],
   "source": [
    "image_filename = f\"ftw_input_{tile_id}_{season}_{year}.tif\"\n",
    "\n",
    "# Only download the imagery in a relatively small window around the tile center to speed up processing\n",
    "buffer = 0.1\n",
    "bbox_string = f\"{lon - buffer},{lat - buffer},{lon + buffer},{lat + buffer}\"\n",
    "\n",
    "!ftw inference download --win_a {win_a_id} --win_b {win_b_id} --out {image_filename} --overwrite --bbox {bbox_string}\n",
    "\n",
    "# hardcoding the austria example for now since above is failing with different processing versions, solution TBD\n",
    "# !ftw inference download --win_a S2B_MSIL2A_20210617T100559_R022_T33UUP_20210624T063729 --win_b S2B_MSIL2A_20210925T101019_R022_T33UUP_20210926T121923 --out {image_filename} --overwrite --bbox 12.7,48.4,12.97,48.57"
   ]
  },
  {
   "cell_type": "markdown",
   "metadata": {
    "id": "qa9Iuu2GU52Z"
   },
   "source": [
    "<a name=\"methodology\"></a>\n",
    "# Methodology\n",
    "\n",
    "In this section, describe a step-by-step walkthrough of the methodology, in the form of code cells. Feel free to make use of markdown headings to break this section up into smaller subsections, preferrably one section per task.\n",
    "\n",
    "Reminders:\n",
    "*   Split the code into small, digestible chunks.\n",
    "*   Use text cells to describe each code block.\n",
    "*   Avoid duplicate code through modularization.\n",
    "\n",
    "Given the sequential nature of notebook cells, if any experiment requires users to rerun previous cells please provide clear and explicit instructions to do so."
   ]
  },
  {
   "cell_type": "markdown",
   "metadata": {
    "id": "yWXsiZ5freTG"
   },
   "source": [
    "## Predict field boundaries"
   ]
  },
  {
   "cell_type": "code",
   "execution_count": 10,
   "metadata": {},
   "outputs": [],
   "source": [
    "# Choose the model - TODO add instructions about CCBY model options\n",
    "# see https://github.com/fieldsoftheworld/ftw-baselines/releases\n",
    "\n",
    "# download the model checkpoint\n",
    "url = \"https://github.com/fieldsoftheworld/ftw-baselines/releases/download/v1/3_Class_FULL_FTW_Pretrained.ckpt\"\n",
    "model_filename = \"3_Class_FULL_FTW_Pretrained.ckpt\"\n",
    "if not os.path.exists(model_filename):\n",
    "    print(f\"Downloading model checkpoint from {url} to {model_filename}\")\n",
    "    urllib.request.urlretrieve(url, model_filename)"
   ]
  },
  {
   "cell_type": "code",
   "execution_count": 11,
   "metadata": {
    "id": "6CeKQHfyrU7k"
   },
   "outputs": [
    {
     "name": "stdout",
     "output_type": "stream",
     "text": [
      "Input image size: 2257x1683 pixels (HxW)\n",
      "Patch size: 1024\n",
      "Padding: 64\n",
      "Using custom trainer\n",
      "\"backbone\":        efficientnet-b3\n",
      "\"class_weights\":   [0.04, 0.08, 0.88]\n",
      "\"freeze_backbone\": False\n",
      "\"freeze_decoder\":  False\n",
      "\"ignore_index\":    3\n",
      "\"in_channels\":     8\n",
      "\"loss\":            ce\n",
      "\"lr\":              0.001\n",
      "\"model\":           unet\n",
      "\"model_kwargs\":    {}\n",
      "\"num_classes\":     3\n",
      "\"num_filters\":     64\n",
      "\"patch_weights\":   False\n",
      "\"patience\":        100\n",
      "100%|█████████████████████████████████████████████| 3/3 [00:02<00:00,  1.26it/s]\n",
      "Finished inference and saved output to ftw_predictions_14TPN_summer_2023.tif in 3.80s\n"
     ]
    }
   ],
   "source": [
    "output_filename = f\"ftw_predictions_{tile_id}_{season}_{year}.tif\"\n",
    "\n",
    "# TODO: check for and add --mps_mode as needed\n",
    "\n",
    "!ftw inference run {image_filename} --out {output_filename} --gpu 0 --model {model_filename} --overwrite\n",
    "# TODO the process hangs after inference completes and we have to stop the computation manually, need to fix"
   ]
  },
  {
   "cell_type": "markdown",
   "metadata": {},
   "source": [
    "### Filter by land cover\n",
    "can't do this until PR is merged: https://github.com/fieldsoftheworld/ftw-baselines/pull/130"
   ]
  },
  {
   "cell_type": "markdown",
   "metadata": {},
   "source": [
    "### Polygonize boundaries"
   ]
  },
  {
   "cell_type": "code",
   "execution_count": 12,
   "metadata": {},
   "outputs": [
    {
     "name": "stdout",
     "output_type": "stream",
     "text": [
      "Polygonizing input file: ftw_predictions_14TPN_summer_2023.tif\n",
      "Processing mask windows: 100%|████████████████████| 2/2 [00:00<00:00,  3.39it/s]\n",
      "WARNING: The fiboa-compliant GeoParquet output format is recommended for field boundaries.\n",
      "Finished polygonizing output at ftw_boundaries_14TPN_summer_2023.gpkg in 0.70s\n"
     ]
    }
   ],
   "source": [
    "boundaries_filename = f\"ftw_boundaries_{tile_id}_{season}_{year}.gpkg\"\n",
    "!ftw inference polygonize {output_filename} --out {boundaries_filename} -f\n",
    "# TODO add size filtering/smoothing options"
   ]
  },
  {
   "cell_type": "code",
   "execution_count": 4,
   "metadata": {},
   "outputs": [],
   "source": [
    "boundaries_filename = f\"ftw_boundaries_14TPN_summer_2023.gpkg\""
   ]
  },
  {
   "cell_type": "code",
   "execution_count": null,
   "metadata": {},
   "outputs": [
    {
     "data": {
      "application/vnd.jupyter.widget-view+json": {
       "model_id": "742d82d85b094770ae176608d0a6fb22",
       "version_major": 2,
       "version_minor": 0
      },
      "text/plain": [
       "Map(center=[42.88787161590836, -97.16305829737504], controls=(AttributionControl(options=['position', 'prefix'…"
      ]
     },
     "execution_count": 5,
     "metadata": {},
     "output_type": "execute_result"
    }
   ],
   "source": [
    "#from google.colab import output\n",
    "#output.enable_custom_widget_manager()\n",
    "\n",
    "gdf = gpd.read_file(boundaries_filename)\n",
    "\n",
    "GOOGLE_MAPS_XYZ = \"https://mt1.google.com/vt/lyrs=s&x={x}&y={y}&z={z}\"\n",
    "\n",
    "m = leafmap.Map(center=[lat, lon], zoom=12,\n",
    "    draw_control=False,\n",
    "    measure_control=False,\n",
    "    fullscreen_control=False,\n",
    "    attribution_control=True)\n",
    "m.add_tile_layer(url=GOOGLE_MAPS_XYZ, name=\"Google Satellite\", attribution=\"Google\")\n",
    "m.add_geojson(gdf, layer_name=\"Generated Fields\")\n",
    "m"
   ]
  },
  {
   "cell_type": "markdown",
   "metadata": {},
   "source": [
    "## Join with the USDA's Cropland Data Layer (CDL) data"
   ]
  },
  {
   "cell_type": "code",
   "execution_count": 6,
   "metadata": {},
   "outputs": [],
   "source": [
    "from torchgeo.datasets import CDL\n",
    "import numpy as np"
   ]
  },
  {
   "cell_type": "code",
   "execution_count": 7,
   "metadata": {},
   "outputs": [],
   "source": [
    "# TorchGeo provides a handy way to download and access the CDL dataset\n",
    "_ = CDL(paths=\"data/cdl\", years=[2023], download=True)"
   ]
  },
  {
   "cell_type": "code",
   "execution_count": 9,
   "metadata": {},
   "outputs": [],
   "source": [
    "field_boundaries = gpd.read_file(boundaries_filename)"
   ]
  },
  {
   "cell_type": "code",
   "execution_count": 8,
   "metadata": {},
   "outputs": [
    {
     "ename": "NameError",
     "evalue": "name 'field_boundaries' is not defined",
     "output_type": "error",
     "traceback": [
      "\u001b[31m---------------------------------------------------------------------------\u001b[39m",
      "\u001b[31mNameError\u001b[39m                                 Traceback (most recent call last)",
      "\u001b[36mCell\u001b[39m\u001b[36m \u001b[39m\u001b[32mIn[8]\u001b[39m\u001b[32m, line 3\u001b[39m\n\u001b[32m      1\u001b[39m \u001b[38;5;66;03m# warp the fields to the CDL CRS \u001b[39;00m\n\u001b[32m      2\u001b[39m \u001b[38;5;28;01mwith\u001b[39;00m rasterio.open(\u001b[33m\"\u001b[39m\u001b[33mdata/cdl/2023_30m_cdls.tif\u001b[39m\u001b[33m\"\u001b[39m) \u001b[38;5;28;01mas\u001b[39;00m cdl_ds:\n\u001b[32m----> \u001b[39m\u001b[32m3\u001b[39m     field_boundaries_warped = \u001b[43mfield_boundaries\u001b[49m.to_crs(cdl_ds.crs)\n",
      "\u001b[31mNameError\u001b[39m: name 'field_boundaries' is not defined"
     ]
    }
   ],
   "source": [
    "# warp the fields to the CDL CRS \n",
    "with rasterio.open(\"data/cdl/2023_30m_cdls.tif\") as cdl_ds:\n",
    "    field_boundaries_warped = field_boundaries.to_crs(cdl_ds.crs)"
   ]
  },
  {
   "cell_type": "code",
   "execution_count": null,
   "metadata": {},
   "outputs": [],
   "source": [
    "# check to make sure the geometries aren't inf -- if there is a warping issue in the gdal layer then geopandas will fail silently\n",
    "assert np.all(field_boundaries_warped.geometry.is_valid)"
   ]
  },
  {
   "cell_type": "code",
   "execution_count": 10,
   "metadata": {},
   "outputs": [],
   "source": [
    "# TODO: remove\n",
    "field_boundaries_warped = gpd.read_file(\"ftw_boundaries_14TPN_summer_2023_warped.gpkg\")"
   ]
  },
  {
   "cell_type": "code",
   "execution_count": 11,
   "metadata": {},
   "outputs": [
    {
     "name": "stderr",
     "output_type": "stream",
     "text": [
      "100%|██████████| 1240/1240 [00:01<00:00, 1163.40it/s]\n"
     ]
    }
   ],
   "source": [
    "majority_class_vals = []\n",
    "majority_class_percents = []\n",
    "with rasterio.open(\"data/cdl/2023_30m_cdls.tif\") as f:\n",
    "    for geom in tqdm(field_boundaries_warped.geometry.values):\n",
    "        out_image, out_transform = rasterio.mask.mask(\n",
    "            f,\n",
    "            [geom],\n",
    "            crop=True,\n",
    "            all_touched=True,\n",
    "            nodata=0,\n",
    "        )\n",
    "        out_image = out_image.squeeze().flatten()\n",
    "        out_image = out_image[out_image != 0]\n",
    "        N = out_image.shape[0]\n",
    "        vals, counts = np.unique(out_image, return_counts=True)\n",
    "        counts = counts / N\n",
    "        val_counts = dict(zip(vals, counts))\n",
    "        max_val = max(val_counts, key=val_counts.get)\n",
    "        majority_class_vals.append(max_val)\n",
    "        majority_class_percents.append(val_counts[max_val])\n",
    "\n",
    "majority_class_vals = np.array(majority_class_vals)\n",
    "majority_class_percents = np.array(majority_class_percents)"
   ]
  },
  {
   "cell_type": "markdown",
   "metadata": {
    "id": "o8L28axZ4NVj"
   },
   "source": [
    "## Generate embeddings for each field\n",
    "\n",
    "We can generate per field embeddings using a variety of methods, from simple statistics over the input channels, to more complex methods such as using pre-trained deep learning models. In this tutorial we will use the MOSAIKS method (i.e. random convolutional features) to generate embeddings for each field. MOSAIKS was introduced in [A generalizable and accessible approach to machine learning with global satellite imagery](https://www.nature.com/articles/s41467-021-24638-z)$^1$ and consists of running a set of random convolutional filters over the input channels and pooling the resulting feature maps into an embedding vector. This method is fast and generates embeddings that are useful for a wide variety of downstream tasks.\n",
    "\n",
    "$^1$ Rolf, Esther, et al. \"A generalizable and accessible approach to machine learning with global satellite imagery.\" Nature communications 12.1 (2021): 4392."
   ]
  },
  {
   "cell_type": "code",
   "execution_count": 12,
   "metadata": {
    "id": "_6HotiSW4Pe8"
   },
   "outputs": [],
   "source": [
    "from torchgeo.models import RCF\n",
    "from torch import Tensor\n",
    "import torch\n",
    "import torch.nn.functional as F\n",
    "import numpy as np\n",
    "\n",
    "\n",
    "# First we define a custom RCF model that can handle masked inputs.\n",
    "class RCFWithCustomMaskPooling(RCF):\n",
    "    def __init__(self, *args, **kwargs):\n",
    "        super().__init__(*args, **kwargs)\n",
    "\n",
    "    def forward_masked(self, x: Tensor, mask: Tensor) -> Tensor:\n",
    "        \"\"\"WARNING: This method doesn't work on batches of images, only on single images.\"\"\"\n",
    "\n",
    "        assert x.dim() == 3, \"Input tensor must have 3 dimensions (C, H, W)\"\n",
    "        x1a = F.relu(\n",
    "            F.conv2d(x, self.weights, bias=self.biases, stride=1, padding=0),\n",
    "            inplace=True,\n",
    "        )\n",
    "        x1b = F.relu(\n",
    "            -F.conv2d(x, self.weights, bias=self.biases, stride=1, padding=0),\n",
    "            inplace=False,\n",
    "        )\n",
    "        padding = self.weights.shape[-1] // 2\n",
    "        mask = mask[padding:-padding, padding:-padding]\n",
    "\n",
    "        x1a = torch.mean(x1a[:, mask], dim=1, keepdim=False)\n",
    "        x1b = torch.mean(x1b[:, mask], dim=1, keepdim=False)\n",
    "        output = torch.cat((x1a, x1b), dim=0)\n",
    "        return output"
   ]
  },
  {
   "cell_type": "code",
   "execution_count": 13,
   "metadata": {},
   "outputs": [],
   "source": [
    "device = torch.device(\"cuda:0\" if torch.cuda.is_available() else \"cpu\")"
   ]
  },
  {
   "cell_type": "code",
   "execution_count": 14,
   "metadata": {},
   "outputs": [],
   "source": [
    "model = RCFWithCustomMaskPooling(\n",
    "    in_channels=8, features=256, kernel_size=3, seed=0, mode=\"gaussian\"\n",
    ").to(device)"
   ]
  },
  {
   "cell_type": "code",
   "execution_count": 20,
   "metadata": {},
   "outputs": [
    {
     "name": "stderr",
     "output_type": "stream",
     "text": [
      "100%|██████████| 1240/1240 [00:06<00:00, 188.12it/s]\n"
     ]
    }
   ],
   "source": [
    "PAD_WIDTH = 3  # this ensures that each crop is at least 3 pixels\n",
    "\n",
    "feature_per_field = []\n",
    "with rasterio.open(image_filename) as f:\n",
    "    for shape in tqdm(field_boundaries.geometry):\n",
    "        out_image, out_transform = rasterio.mask.mask(\n",
    "            f, [shape], crop=True, all_touched=True, nodata=0, pad=True, pad_width=PAD_WIDTH\n",
    "        )\n",
    "        field_mask = out_image[0] > 0\n",
    "\n",
    "        out_image, out_transform = rasterio.mask.mask(\n",
    "            f,\n",
    "            [shape.envelope],\n",
    "            crop=True,\n",
    "            all_touched=True,\n",
    "            nodata=0,\n",
    "            pad=True,\n",
    "            pad_width=PAD_WIDTH,\n",
    "        )\n",
    "\n",
    "        num_channels, height, width = out_image.shape\n",
    "\n",
    "        assert height >= PAD_WIDTH and width >= PAD_WIDTH\n",
    "        with torch.inference_mode():\n",
    "            features = model.forward_masked(\n",
    "                torch.tensor(out_image / 3000.0).float().to(device),\n",
    "                torch.tensor(field_mask).to(device),\n",
    "            )\n",
    "            feature_per_field.append(features.cpu().numpy())\n",
    "features_per_field = np.array(feature_per_field)"
   ]
  },
  {
   "cell_type": "markdown",
   "metadata": {},
   "source": [
    "## Predicting crop type with few labels\n",
    "\n",
    "Now that we have a feature embedding for each field, we can use those in all types of downstream tasks. Below we show how to use the embeddings to predict crop type with few labels. We will use the CDL data as a source of labels, but we can also use other sources of labels such as field surveys or expert knowledge."
   ]
  },
  {
   "cell_type": "code",
   "execution_count": 21,
   "metadata": {},
   "outputs": [],
   "source": [
    "from sklearn.model_selection import train_test_split\n",
    "from sklearn.preprocessing import StandardScaler, LabelEncoder\n",
    "from sklearn.linear_model import LogisticRegression\n",
    "from sklearn.metrics import accuracy_score, classification_report, precision_score, recall_score, f1_score, confusion_matrix, ConfusionMatrixDisplay\n",
    "\n",
    "import pandas as pd"
   ]
  },
  {
   "cell_type": "code",
   "execution_count": null,
   "metadata": {},
   "outputs": [],
   "source": [
    "def prepare_dataset(\n",
    "    features_per_field: List[np.ndarray],\n",
    "    majority_class_vals: List[int],\n",
    "    min_fields: int = 10,\n",
    "    train_fraction: float = 0.1,\n",
    "    random_state: int = 0\n",
    ") -> Tuple[np.ndarray, np.ndarray, np.ndarray, np.ndarray, LabelEncoder]:\n",
    "    \"\"\"Prepare and split the dataset into train/test sets while filtering out classes\n",
    "    that have too few examples to consider.\"\"\"\n",
    "    vals, counts = np.unique(majority_class_vals, return_counts=True)\n",
    "    field_class_counts = dict(zip(vals, counts))\n",
    "\n",
    "    # Filter out underrepresented classes\n",
    "    x_all, y_all = [], []\n",
    "    for x, y in zip(features_per_field, majority_class_vals):\n",
    "        if field_class_counts[y] < min_fields:\n",
    "            continue\n",
    "        x_all.append(x)\n",
    "        y_all.append(int(y))\n",
    "\n",
    "    x_all = np.array(x_all)\n",
    "    y_all = np.array(y_all)\n",
    "\n",
    "    # Encode labels\n",
    "    encoder = LabelEncoder()\n",
    "    y_all = encoder.fit_transform(y_all)\n",
    "\n",
    "    # Train/test split\n",
    "    x_train, x_test, y_train, y_test = train_test_split(\n",
    "        x_all, y_all,\n",
    "        test_size=1 - train_fraction,\n",
    "        random_state=random_state,\n",
    "        stratify=y_all\n",
    "    )\n",
    "\n",
    "    return x_train, x_test, y_train, y_test, encoder"
   ]
  },
  {
   "cell_type": "code",
   "execution_count": null,
   "metadata": {},
   "outputs": [],
   "source": [
    "def train_and_evaluate_model(\n",
    "    x_train: np.ndarray,\n",
    "    y_train: np.ndarray,\n",
    "    x_test: np.ndarray,\n",
    "    y_test: np.ndarray,\n",
    "    random_state: int = 0\n",
    ") -> Tuple[np.ndarray, np.ndarray]:\n",
    "    \"\"\"Scale data, train Logistic Regression, and return accuracy.\"\"\"\n",
    "    scaler = StandardScaler()\n",
    "    x_train_scaled = scaler.fit_transform(x_train)\n",
    "    x_test_scaled = scaler.transform(x_test)\n",
    "\n",
    "    model = LogisticRegression(C=1.0, max_iter=1000, random_state=random_state, tol=1e-12)\n",
    "    model.fit(x_train_scaled, y_train)\n",
    "\n",
    "    y_pred = model.predict(x_test_scaled)\n",
    "    return y_pred, y_test"
   ]
  },
  {
   "cell_type": "code",
   "execution_count": 51,
   "metadata": {},
   "outputs": [],
   "source": [
    "def run_experiment(\n",
    "    features_per_field: List[np.ndarray],\n",
    "    majority_class_vals: List[int],\n",
    "    min_fields: int = 10,\n",
    "    train_fraction: float = 0.1,\n",
    "    random_state: int = 0,\n",
    "    verbose: bool = True\n",
    ") -> Tuple[np.ndarray, np.ndarray, List[str]]:\n",
    "    \"\"\"Run the full experiment and print summary stats.\"\"\"\n",
    "    x_train, x_test, y_train, y_test, encoder = prepare_dataset(\n",
    "        features_per_field, majority_class_vals,\n",
    "        min_fields=min_fields,\n",
    "        train_fraction=train_fraction,\n",
    "        random_state=random_state\n",
    "    )\n",
    "\n",
    "    train_counts = dict(zip(\n",
    "        encoder.inverse_transform(np.unique(y_train, return_counts=True)[0]),\n",
    "        np.unique(y_train, return_counts=True)[1]\n",
    "    ))\n",
    "    test_counts = dict(zip(\n",
    "        encoder.inverse_transform(np.unique(y_test, return_counts=True)[0]),\n",
    "        np.unique(y_test, return_counts=True)[1]\n",
    "    ))\n",
    "    class_names = [\n",
    "        utils.CDL_CODE_TO_NAME[val]\n",
    "        for val in encoder.inverse_transform(np.unique(y_test))\n",
    "    ]\n",
    "    if verbose:\n",
    "        print(f\"Train size: {len(y_train)}, Test size: {len(y_test)}\")\n",
    "        for val in test_counts.keys():\n",
    "            print(f\"{utils.CDL_CODE_TO_NAME[val]} — train: {train_counts[val]}, test: {test_counts[val]}\")\n",
    "\n",
    "    y_pred, y_test = train_and_evaluate_model(x_train, y_train, x_test, y_test, random_state=random_state)\n",
    "\n",
    "    return y_pred, y_test, class_names"
   ]
  },
  {
   "cell_type": "code",
   "execution_count": 52,
   "metadata": {},
   "outputs": [
    {
     "name": "stdout",
     "output_type": "stream",
     "text": [
      "Train size: 123, Test size: 1110\n",
      "Corn — train: 35, test: 319\n",
      "Soybeans — train: 30, test: 267\n",
      "Alfalfa — train: 12, test: 107\n",
      "Other Hay/Non Alfalfa — train: 2, test: 23\n",
      "Open Water — train: 5, test: 51\n",
      "Developed/Open Space — train: 2, test: 14\n",
      "Deciduous Forest — train: 2, test: 22\n",
      "Grass/Pasture — train: 28, test: 251\n",
      "Woody Wetlands — train: 4, test: 32\n",
      "Herbaceous Wetlands — train: 3, test: 24\n"
     ]
    }
   ],
   "source": [
    "y_pred, y_test, class_names = run_experiment(\n",
    "    features_per_field=features_per_field,\n",
    "    majority_class_vals=majority_class_vals,\n",
    "    min_fields=10,\n",
    "    train_fraction=0.1,\n",
    "    random_state=0,\n",
    "    verbose=True\n",
    ")"
   ]
  },
  {
   "cell_type": "code",
   "execution_count": 53,
   "metadata": {},
   "outputs": [
    {
     "data": {
      "text/plain": [
       "Text(0, 0.5, 'True')"
      ]
     },
     "execution_count": 53,
     "metadata": {},
     "output_type": "execute_result"
    },
    {
     "data": {
      "image/png": "[encoded data removed]",
      "text/plain": [
       "<Figure size 640x480 with 2 Axes>"
      ]
     },
     "metadata": {},
     "output_type": "display_data"
    }
   ],
   "source": [
    "cnf = confusion_matrix(y_test, y_pred)\n",
    "disp = ConfusionMatrixDisplay(confusion_matrix=cnf, display_labels=class_names)\n",
    "disp.plot(cmap=\"Blues\")\n",
    "disp.ax_.set_title(\"Confusion Matrix\")\n",
    "disp.ax_.set_xlabel(\"Predicted\")\n",
    "disp.ax_.set_xticklabels(class_names, rotation=90)\n",
    "disp.ax_.set_ylabel(\"True\")"
   ]
  },
  {
   "cell_type": "code",
   "execution_count": 54,
   "metadata": {},
   "outputs": [
    {
     "data": {
      "text/html": [
       "<div>\n",
       "<style scoped>\n",
       "    .dataframe tbody tr th:only-of-type {\n",
       "        vertical-align: middle;\n",
       "    }\n",
       "\n",
       "    .dataframe tbody tr th {\n",
       "        vertical-align: top;\n",
       "    }\n",
       "\n",
       "    .dataframe thead th {\n",
       "        text-align: right;\n",
       "    }\n",
       "</style>\n",
       "<table border=\"1\" class=\"dataframe\">\n",
       "  <thead>\n",
       "    <tr style=\"text-align: right;\">\n",
       "      <th></th>\n",
       "      <th>class_name</th>\n",
       "      <th>n_train</th>\n",
       "      <th>n_test</th>\n",
       "      <th>precision</th>\n",
       "      <th>recall</th>\n",
       "      <th>f1</th>\n",
       "    </tr>\n",
       "  </thead>\n",
       "  <tbody>\n",
       "    <tr>\n",
       "      <th>0</th>\n",
       "      <td>Open Water</td>\n",
       "      <td>5</td>\n",
       "      <td>51</td>\n",
       "      <td>0.93</td>\n",
       "      <td>0.76</td>\n",
       "      <td>0.84</td>\n",
       "    </tr>\n",
       "    <tr>\n",
       "      <th>1</th>\n",
       "      <td>Grass/Pasture</td>\n",
       "      <td>28</td>\n",
       "      <td>251</td>\n",
       "      <td>0.69</td>\n",
       "      <td>0.84</td>\n",
       "      <td>0.76</td>\n",
       "    </tr>\n",
       "    <tr>\n",
       "      <th>2</th>\n",
       "      <td>Soybeans</td>\n",
       "      <td>30</td>\n",
       "      <td>267</td>\n",
       "      <td>0.61</td>\n",
       "      <td>0.76</td>\n",
       "      <td>0.68</td>\n",
       "    </tr>\n",
       "    <tr>\n",
       "      <th>3</th>\n",
       "      <td>Corn</td>\n",
       "      <td>35</td>\n",
       "      <td>319</td>\n",
       "      <td>0.72</td>\n",
       "      <td>0.63</td>\n",
       "      <td>0.67</td>\n",
       "    </tr>\n",
       "    <tr>\n",
       "      <th>4</th>\n",
       "      <td>Alfalfa</td>\n",
       "      <td>12</td>\n",
       "      <td>107</td>\n",
       "      <td>0.72</td>\n",
       "      <td>0.52</td>\n",
       "      <td>0.61</td>\n",
       "    </tr>\n",
       "    <tr>\n",
       "      <th>5</th>\n",
       "      <td>Other Hay/Non Alfalfa</td>\n",
       "      <td>2</td>\n",
       "      <td>23</td>\n",
       "      <td>0.27</td>\n",
       "      <td>0.13</td>\n",
       "      <td>0.18</td>\n",
       "    </tr>\n",
       "    <tr>\n",
       "      <th>6</th>\n",
       "      <td>Deciduous Forest</td>\n",
       "      <td>2</td>\n",
       "      <td>22</td>\n",
       "      <td>0.25</td>\n",
       "      <td>0.14</td>\n",
       "      <td>0.18</td>\n",
       "    </tr>\n",
       "    <tr>\n",
       "      <th>7</th>\n",
       "      <td>Woody Wetlands</td>\n",
       "      <td>4</td>\n",
       "      <td>32</td>\n",
       "      <td>0.19</td>\n",
       "      <td>0.12</td>\n",
       "      <td>0.15</td>\n",
       "    </tr>\n",
       "    <tr>\n",
       "      <th>8</th>\n",
       "      <td>Developed/Open Space</td>\n",
       "      <td>2</td>\n",
       "      <td>14</td>\n",
       "      <td>0.08</td>\n",
       "      <td>0.07</td>\n",
       "      <td>0.08</td>\n",
       "    </tr>\n",
       "    <tr>\n",
       "      <th>9</th>\n",
       "      <td>Herbaceous Wetlands</td>\n",
       "      <td>3</td>\n",
       "      <td>24</td>\n",
       "      <td>0.00</td>\n",
       "      <td>0.00</td>\n",
       "      <td>0.00</td>\n",
       "    </tr>\n",
       "  </tbody>\n",
       "</table>\n",
       "</div>"
      ],
      "text/plain": [
       "              class_name  n_train  n_test  precision  recall    f1\n",
       "0             Open Water        5      51       0.93    0.76  0.84\n",
       "1          Grass/Pasture       28     251       0.69    0.84  0.76\n",
       "2               Soybeans       30     267       0.61    0.76  0.68\n",
       "3                   Corn       35     319       0.72    0.63  0.67\n",
       "4                Alfalfa       12     107       0.72    0.52  0.61\n",
       "5  Other Hay/Non Alfalfa        2      23       0.27    0.13  0.18\n",
       "6       Deciduous Forest        2      22       0.25    0.14  0.18\n",
       "7         Woody Wetlands        4      32       0.19    0.12  0.15\n",
       "8   Developed/Open Space        2      14       0.08    0.07  0.08\n",
       "9    Herbaceous Wetlands        3      24       0.00    0.00  0.00"
      ]
     },
     "execution_count": 54,
     "metadata": {},
     "output_type": "execute_result"
    }
   ],
   "source": [
    "per_class_precision = precision_score(y_test, y_pred, average=None, zero_division=0)\n",
    "per_class_recall = recall_score(y_test, y_pred, average=None, zero_division=0)\n",
    "per_class_f1 = f1_score(y_test, y_pred, average=None, zero_division=0)\n",
    "\n",
    "rows = []\n",
    "for class_index in range(len(class_names)):\n",
    "    class_name = class_names[class_index]\n",
    "\n",
    "    class_num = encoder.inverse_transform([class_index])[0]\n",
    "    n_train = train_val_counts[class_num]\n",
    "    n_test = test_val_counts[class_num]\n",
    "\n",
    "    precision = per_class_precision[class_index]\n",
    "    recall = per_class_recall[class_index]\n",
    "    f1 = per_class_f1[class_index]\n",
    "\n",
    "    rows.append(\n",
    "        {\n",
    "            \"class_name\": class_name,\n",
    "            \"n_train\": n_train,\n",
    "            \"n_test\": n_test,\n",
    "            \"precision\": precision,\n",
    "            \"recall\": recall,\n",
    "            \"f1\": f1,\n",
    "        }\n",
    "    )\n",
    "pd.DataFrame(rows).sort_values(by=\"f1\", ascending=False).reset_index(drop=True).round(2)"
   ]
  },
  {
   "cell_type": "markdown",
   "metadata": {},
   "source": [
    "Some things to note:\n",
    "- It makes sense that our model is performing really well on \"fields\" that have a majority class label of \"water\" -- this _should_ be a very easy task to learn\n",
    "- For the crop classes: Soybeans, Corn, Alfalfa we see F1 scores between 0.6 and 0.7 -- this is with relatively few ~30 labeled examples per class\n",
    "- Looking at the confusion matrix we can see that the model is struggling to distinguish between Soybeans and Corn, which makes sense? TODO and over predicting on Grass/Pasture"
   ]
  },
  {
   "cell_type": "markdown",
   "metadata": {},
   "source": [
    "### How does performance change with more labels?"
   ]
  },
  {
   "cell_type": "code",
   "execution_count": 61,
   "metadata": {},
   "outputs": [
    {
     "name": "stderr",
     "output_type": "stream",
     "text": [
      "Running experiment with train fraction 0.01: 100%|██████████| 10/10 [00:00<00:00, 15.42it/s]\n",
      "Running experiment with train fraction 0.05: 100%|██████████| 10/10 [00:03<00:00,  3.22it/s]\n",
      "Running experiment with train fraction 0.1: 100%|██████████| 10/10 [00:04<00:00,  2.33it/s]\n",
      "Running experiment with train fraction 0.2: 100%|██████████| 10/10 [00:05<00:00,  1.86it/s]\n",
      "Running experiment with train fraction 0.3: 100%|██████████| 10/10 [00:06<00:00,  1.58it/s]\n",
      "Running experiment with train fraction 0.4: 100%|██████████| 10/10 [00:06<00:00,  1.52it/s]\n",
      "Running experiment with train fraction 0.5: 100%|██████████| 10/10 [00:07<00:00,  1.41it/s]\n"
     ]
    }
   ],
   "source": [
    "# run experiments with varying amount of training data then plot the f1 score for corn and soybeans over training fraction\n",
    "import matplotlib.pyplot as plt\n",
    "\n",
    "xs = [0.01, 0.05, 0.1, 0.2, 0.3, 0.4, 0.5]\n",
    "ys_corn = []\n",
    "ys_soybean = []\n",
    "for pct in xs:\n",
    "    corn_f1s = []\n",
    "    soybean_f1s = []\n",
    "    for seed in tqdm(range(10), desc=f\"Running experiment with train fraction {pct}\"):\n",
    "\n",
    "        y_pred, y_test, class_names = run_experiment(\n",
    "            features_per_field=features_per_field,\n",
    "            majority_class_vals=majority_class_vals,\n",
    "            min_fields=10,\n",
    "            train_fraction=pct,\n",
    "            random_state=seed,\n",
    "            verbose=False\n",
    "        )\n",
    "\n",
    "        per_class_f1 = f1_score(y_test, y_pred, average=None, zero_division=0)\n",
    "        corn_f1 = per_class_f1[class_names.index(\"Corn\")]\n",
    "        soybean_f1 = per_class_f1[class_names.index(\"Soybeans\")]\n",
    "        corn_f1s.append(corn_f1)\n",
    "        soybean_f1s.append(soybean_f1)\n",
    "    ys_corn.append(corn_f1s)\n",
    "    ys_soybean.append(soybean_f1s)\n",
    "\n",
    "xs = np.array(xs)\n",
    "ys_corn = np.array(ys_corn)\n",
    "ys_soybean = np.array(ys_soybean)"
   ]
  },
  {
   "cell_type": "code",
   "execution_count": 67,
   "metadata": {},
   "outputs": [
    {
     "data": {
      "image/png": "[encoded data removed]",
      "text/plain": [
       "<Figure size 640x480 with 1 Axes>"
      ]
     },
     "metadata": {},
     "output_type": "display_data"
    }
   ],
   "source": [
    "plt.figure()\n",
    "ax = plt.gca()\n",
    "plt.errorbar(xs, ys_corn.mean(axis=1), yerr=ys_corn.std(axis=1), label=\"Corn\", marker=\"o\")\n",
    "plt.errorbar(xs, ys_soybean.mean(axis=1), yerr=ys_soybean.std(axis=1), label=\"Soybeans\", marker=\"o\")\n",
    "plt.xlabel(\"Training Fraction\", fontsize=12)\n",
    "plt.ylabel(\"F1 Score\", fontsize=12)\n",
    "plt.yticks(fontsize=12)\n",
    "plt.xticks(xs, [f\"{x*100:.0f}%\" for x in xs], fontsize=12)\n",
    "plt.legend(fontsize=14)\n",
    "ax.spines[\"top\"].set_visible(False)\n",
    "ax.spines[\"right\"].set_visible(False)\n",
    "plt.show()\n",
    "plt.close()"
   ]
  },
  {
   "cell_type": "markdown",
   "metadata": {
    "id": "ZhkmytKNU_Z2"
   },
   "source": [
    "<a name=\"results-and-discussion\"></a>\n",
    "# Results & Discussion\n",
    "\n",
    "In this section, describe your results. Briefly describe the performance metrics and cross validation techniques used."
   ]
  },
  {
   "cell_type": "code",
   "execution_count": null,
   "metadata": {
    "id": "8LWo6UQzwj37"
   },
   "outputs": [],
   "source": [
    "# Insert code here. Feel free to break this up into several code\n",
    "# cells, interleaved with explanatory text."
   ]
  },
  {
   "cell_type": "markdown",
   "metadata": {
    "id": "oHIjM6eMwlXY"
   },
   "source": [
    "Finally, include a discussion on the limitations and important takeaways from the exercise. Relate the takeaways back to the user learning outcomes.\n",
    "\n",
    "## Limitations\n",
    "*   ML algorithms and datasets can reinforce or reflect unfair biases. Reflect on the potential biases in the dataset and/or analysis presented in your tutorial, including its potential societal impact, and discuss how you might go about addressing this challenge.\n",
    "\n",
    "* Additionally, we encourage authors to highlight and reflect upon any data gaps that may be present along with suggested pathways to overcome these gaps as well as steps for further development and usage. To assist with identifying the types of data gaps that could exist please see CCAI's [datagaps taxonomy](https://www.climatechange.ai/dev/datagaps/info#taxonomy-of-data-gaps)."
   ]
  },
  {
   "cell_type": "markdown",
   "metadata": {
    "id": "CLLCQpv14Gsx"
   },
   "source": [
    "## Next Steps\n",
    "*   What do you imagine would be the next steps for your readers after finishing your tutorial?\n",
    "*   Discuss other potential climate-related applications for the method or tool discussed in the tutorial.\n",
    "*   Do you know of other climate-related datasets similar to the one used in this tutorial? List them here."
   ]
  },
  {
   "cell_type": "markdown",
   "metadata": {
    "id": "PkKqewK_-ZLD"
   },
   "source": [
    "<a name=\"references\"></a>\n",
    "# References\n",
    "\n",
    "*   EarthCube Notebook Template: https://github.com/earthcube/NotebookTemplates\n",
    "*   Earth Engine Community Tutorials Style Guide: https://developers.google.com/earth-engine/tutorials/community/styleguide#colab\n",
    "*   Google Cloud Community Tutorial Style Guide: https://cloud.google.com/community/tutorials/styleguide\n",
    "*   Rule A, Birmingham A, Zuniga C, Altintas I, Huang S-C, Knight R, et al. (2019) Ten simple rules for writing and sharing computational analyses in Jupyter Notebooks. PLoS Comput Biol 15(7): e1007007. https://doi.org/10.1371/journal.pcbi.1007007\n",
    "* Wilke, C. Fundamentals of Data Visualization: https://clauswilke.com/dataviz/\n",
    "* Cookie Cutter Data Science: https://cookiecutter-data-science.drivendata.org/\n",
    "* CCAI Taxonomy of Data Gaps: https://www.climatechange.ai/dev/datagaps/info#taxonomy-of-data-gaps\n",
    "\n"
   ]
  },
  {
   "cell_type": "markdown",
   "metadata": {
    "id": "vVxrY8eNY-Lw"
   },
   "source": [
    "# Submitting the Tutorial\n",
    "*(Please remove this section from your final tutorial submission.)*\n",
    "\n",
    "When submitting your tutorial notebook please follow a naming convention that shows the submission version and title. We adapt the convention utilized in [cookie cutter data science](https://cookiecutter-data-science.drivendata.org/opinions/#notebooks-are-for-exploration-and-communication-source-files-are-for-repetition) and suggest the format `<version>-<title>.ipynb` (e.g., `1.0-spatiotemporal-analysis-of-coastal-sargassum.ipynb`).\n",
    "\n",
    "For a complete tutorial submission you are required to submit:\n",
    "\n",
    "\n",
    "1.   `<version>-<title>.ipynb`\n",
    "2.   `requirements.txt`\n",
    "\n",
    "\n",
    "\n",
    "If you are using Google Colab, make sure to change the permissions by clicking \"Share\" (upper right corner of the notebook) >> Change permissions to \"Anyone on the internet with this link can comment\".\n",
    "\n",
    "For additional questions, please feel free to contact:\n",
    "*   climatechangeai.neurips2025@gmail.com\n",
    "*   tutorials@climatechange.ai"
   ]
  }
 ],
 "metadata": {
  "colab": {
   "provenance": []
  },
  "kernelspec": {
   "display_name": "ftw",
   "language": "python",
   "name": "python3"
  },
  "language_info": {
   "codemirror_mode": {
    "name": "ipython",
    "version": 3
   },
   "file_extension": ".py",
   "mimetype": "text/x-python",
   "name": "python",
   "nbconvert_exporter": "python",
   "pygments_lexer": "ipython3",
   "version": "3.12.11"
  }
 },
 "nbformat": 4,
 "nbformat_minor": 4
}
